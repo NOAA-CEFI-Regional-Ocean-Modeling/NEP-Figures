{
 "cells": [
  {
   "cell_type": "code",
   "execution_count": 1,
   "id": "2c9784dc",
   "metadata": {},
   "outputs": [],
   "source": [
    "# Import the python packages you will need \n",
    "import pandas \n",
    "import numpy as np\n",
    "import netCDF4 as nc\n",
    "import xarray as xr\n",
    "import xesmf\n",
    "import time\n",
    "import warnings\n",
    "warnings.filterwarnings(\"ignore\")\n",
    "experiment=\"no_bias_correction\""
   ]
  },
  {
   "cell_type": "code",
   "execution_count": 2,
   "id": "7d403f30",
   "metadata": {},
   "outputs": [],
   "source": [
    "# NEP Bering Grid \n",
    "bering_nep_grid_file = '/work/role.medgrp/NEP/plotting/Figure_19_20/nep_bering_grid.nc'\n",
    "grd_fid = nc.Dataset(bering_nep_grid_file)\n",
    "\n",
    "# extracting lat/lon from geolat/geolon\n",
    "nep_lat = grd_fid.variables['geolat'][:]\n",
    "nep_lon = grd_fid.variables['geolon'][:]"
   ]
  },
  {
   "cell_type": "markdown",
   "id": "e2b290ae",
   "metadata": {},
   "source": [
    "#### Interpolation for Eastern and Northern Bering Sea for Kearney spatial plotting"
   ]
  },
  {
   "cell_type": "code",
   "execution_count": 3,
   "id": "439edff8-50bf-4eaa-ae7b-c6908f5dd8aa",
   "metadata": {},
   "outputs": [
    {
     "name": "stdout",
     "output_type": "stream",
     "text": [
      "<xarray.Dataset> Size: 1GB\n",
      "Dimensions:     (time: 11688, nv: 2, yh: 150, xh: 150)\n",
      "Coordinates:\n",
      "  * nv          (nv) float64 16B 1.0 2.0\n",
      "  * time        (time) datetime64[ns] 94kB 1993-01-01T12:00:00 ... 2024-12-31...\n",
      "  * xh          (xh) float64 1kB 233.6 233.6 233.7 233.8 ... 244.5 244.6 244.6\n",
      "  * yh          (yh) float64 1kB 51.52 51.57 51.62 51.67 ... 57.56 57.59 57.62\n",
      "    lon         (yh, xh) float32 90kB 195.4 195.5 195.6 ... 185.3 185.4 185.5\n",
      "    lat         (yh, xh) float32 90kB 50.08 50.15 50.23 ... 68.17 68.25 68.33\n",
      "Data variables:\n",
      "    average_DT  (time) timedelta64[ns] 94kB ...\n",
      "    average_T1  (time) datetime64[ns] 94kB ...\n",
      "    average_T2  (time) datetime64[ns] 94kB ...\n",
      "    time_bnds   (time, nv) datetime64[ns] 187kB ...\n",
      "    tob         (time, yh, xh) float32 1GB ...\n",
      "Attributes:\n",
      "    NumFilesInSet:       1\n",
      "    title:               NEP10_PHYSICS_decr7_e1\n",
      "    associated_files:    areacello: 19900101.ocean_static.nc\n",
      "    grid_type:           regular\n",
      "    grid_tile:           N/A\n",
      "    external_variables:  areacello\n",
      "    history:             Wed Apr 30 10:40:19 2025: ncrcat nep_tob_bering_1993...\n",
      "    NCO:                 netCDF Operators version 5.1.9 (Homepage = http://nc...\n"
     ]
    }
   ],
   "source": [
    "# daily NEP bering sea bottom temp\n",
    "#nep_fil = f'/work/Utheri.Wagura/NEP/plotting/Figure_19_20/{experiment}/nep_tob_bering_1993-2019_daily_ts.nc'\n",
    "nep_fil = f'/work/Utheri.Wagura/NEP/plotting/Figure_19_20/{experiment}/nep_tob_bering_1993-2024_daily_ts.nc'\n",
    "nep_ds = xr.open_dataset(nep_fil)\n",
    "nep_ds = nep_ds.assign_coords(lon = (('yh', 'xh'), nep_lon))\n",
    "nep_ds = nep_ds.assign_coords(lat = (('yh', 'xh'), nep_lat))\n",
    "\n",
    "print(nep_ds)\n",
    "\n",
    "## daily bottom temp\n",
    "trawl_fil = '/work/role.medgrp/NEP/TOOLS/coldpool/data/ebs_nbs_temperature_full_area.csv'\n",
    "df = pandas.read_csv(trawl_fil)\n",
    "\n",
    "# drop rows that go back for forward in time further than the temporal extent of the NEP hindcast\n",
    "df = df[df.year >= 1993].reset_index(drop=True)\n",
    "#df = df[df.year <= 2019].reset_index(drop=True)\n",
    "\n",
    "# only measurements with haul type 3\n",
    "df = df[df.haul_type == 3].reset_index(drop=True)\n",
    "\n",
    "# generate copy of trawl dataframe with added empty column for interpolated NEP temp\n",
    "df2 = df.assign(nep_tob=np.nan*np.zeros(len(df)))"
   ]
  },
  {
   "cell_type": "code",
   "execution_count": 4,
   "id": "ed344f01-d3de-4554-adc9-881a137f62c6",
   "metadata": {},
   "outputs": [
    {
     "name": "stdout",
     "output_type": "stream",
     "text": [
      "<xarray.Dataset> Size: 195kB\n",
      "Dimensions:  (trawl_sample: 12193)\n",
      "Dimensions without coordinates: trawl_sample\n",
      "Data variables:\n",
      "    lon      (trawl_sample) float64 98kB -159.8 -159.7 -159.7 ... -175.7 -175.5\n",
      "    lat      (trawl_sample) float64 98kB 56.67 57.01 57.34 ... 60.0 59.34 58.67\n",
      "<xarray.Dataset> Size: 1GB\n",
      "Dimensions:  (time: 12193, trawl_sample: 12193, nv: 2)\n",
      "Coordinates:\n",
      "  * nv       (nv) float64 16B 1.0 2.0\n",
      "  * time     (time) datetime64[s] 98kB 1993-06-06T15:00:00 ... 1998-07-29T23:...\n",
      "Dimensions without coordinates: trawl_sample\n",
      "Data variables:\n",
      "    tob      (time, trawl_sample) float64 1GB 5.362 4.675 3.831 ... 2.695 3.38\n",
      "Attributes:\n",
      "    regrid_method:  bilinear\n"
     ]
    },
    {
     "data": {
      "text/plain": [
       "0        5.361503\n",
       "1        4.681043\n",
       "2        3.855108\n",
       "3        3.595562\n",
       "4        4.246317\n",
       "           ...   \n",
       "12188    1.836423\n",
       "12189    2.169506\n",
       "12190    1.980478\n",
       "12191    2.667769\n",
       "12192    3.380377\n",
       "Name: nep_tob, Length: 12193, dtype: float64"
      ]
     },
     "execution_count": 4,
     "metadata": {},
     "output_type": "execute_result"
    }
   ],
   "source": [
    "# convert time to ALASKA time\n",
    "times = np.array(df['start_time'].to_list(), dtype=\"datetime64\")\n",
    "times_alaska = times + np.timedelta64(8,\"h\")\n",
    "\n",
    "trawl_locs = xr.Dataset()\n",
    "trawl_locs['lon'] = xr.DataArray(data=df['longitude'].to_list(), dims=(\"trawl_sample\") )\n",
    "trawl_locs['lat'] = xr.DataArray(data=df['latitude'].to_list(), dims=(\"trawl_sample\") )\n",
    "print(trawl_locs)\n",
    "\n",
    " # Define regridder\n",
    "nep_regridder = xesmf.Regridder(nep_ds, trawl_locs , 'bilinear', locstream_out=True)\n",
    "\n",
    "# Interpolate times\n",
    "nep_ds_interp = nep_ds.interp(time=times_alaska)\n",
    "\n",
    "# Regrid\n",
    "nep_regrided = nep_regridder(nep_ds_interp)\n",
    "\n",
    "print(nep_regrided)\n",
    "\n",
    "for i in range( len(df2)):\n",
    "    df2['nep_tob'][i] = nep_regrided.tob.isel(time=i,trawl_sample=i)\n",
    " \n",
    "new_csv = f'/work/Utheri.Wagura/NEP/plotting/Figure_19_20/{experiment}/ebs_nbs_temperature_full_area_nep.csv'\n",
    "df2.to_csv(new_csv)\n",
    "df2['nep_tob']"
   ]
  },
  {
   "cell_type": "code",
   "execution_count": null,
   "id": "dcfd85c9-5021-478e-94c2-79cce966884c",
   "metadata": {},
   "outputs": [],
   "source": []
  },
  {
   "cell_type": "markdown",
   "id": "2b3abaad",
   "metadata": {},
   "source": [
    "#### Interpolation for Index Bering Sea for Rohan CPA index processing and analysis"
   ]
  },
  {
   "cell_type": "code",
   "execution_count": 5,
   "id": "ef3a21ce-5c5b-4d7a-bd39-da3c07399ce5",
   "metadata": {},
   "outputs": [
    {
     "name": "stdout",
     "output_type": "stream",
     "text": [
      "Creating array of Alaska times:\n",
      "Creating regridder to trawl locations:\n",
      "Performing interpolation: \n",
      "Interpolated times: \n",
      "Regridding to trawl locations:\n",
      "Regrided dataset:\n",
      "Writing interpolated values to dataframe\n",
      "Saving dataframe\n"
     ]
    },
    {
     "data": {
      "text/plain": [
       "0        5.361503\n",
       "1        4.681043\n",
       "2        3.855108\n",
       "3        3.595562\n",
       "4        4.246317\n",
       "           ...   \n",
       "11654    1.502212\n",
       "11655    1.393018\n",
       "11656    1.043741\n",
       "11657    0.341571\n",
       "11658    0.901552\n",
       "Name: nep_tob, Length: 11659, dtype: float64"
      ]
     },
     "execution_count": 5,
     "metadata": {},
     "output_type": "execute_result"
    }
   ],
   "source": [
    "## daily bottom temp\n",
    "trawl_fil = '/work/role.medgrp/NEP/TOOLS/coldpool/data/index_hauls_temperature_data.csv'\n",
    "df = pandas.read_csv(trawl_fil)\n",
    "# drop rows that go back for forward in time further than the temporal extent of the NEP hindcast\n",
    "df = df[df.year >= 1993].reset_index(drop=True)\n",
    "#df = df[df.year <= 2019].reset_index(drop=True)\n",
    "\n",
    "# append fake 2020 time values for nep regridding\n",
    "df_2020 = df[df.year==2019].reset_index(drop=True)\n",
    "df_2020.year = 2020\n",
    "df_2020.gear_temperature = np.nan\n",
    "df_2020.surface_temperature  = np.nan\n",
    "df_2020.cruise = np.nan\n",
    "for row in df_2020.itertuples():\n",
    "    index=row[0]\n",
    "    time_str = df_2020.start_time[index].split('2019')[1] \n",
    "    df_2020.start_time[index] = ('2020' + time_str)\n",
    "\n",
    "df = pandas.concat([df, df_2020]).reset_index(drop=True)\n",
    "\n",
    "nep_fil = f'/work/Utheri.Wagura/NEP/plotting/Figure_19_20/{experiment}/nep_tob_bering_1993-2024_daily_ts.nc'\n",
    "#nep_fil = f'/work/Utheri.Wagura/NEP/plotting/Figure_19_20/{experiment}/nep_tob_bering_1993-2019_daily_ts.nc'\n",
    "nep_ds = xr.open_dataset(nep_fil)\n",
    "nep_ds = nep_ds.assign_coords(lon = (('yh', 'xh'), nep_lon))\n",
    "nep_ds = nep_ds.assign_coords(lat = (('yh', 'xh'), nep_lat))\n",
    "\n",
    "# generate copy of trawl dataframe with added empty column for interpolated NEP temp\n",
    "df2 = df.assign(nep_tob=np.nan*np.zeros(len(df)))\n",
    "\n",
    "trawl_locs = xr.Dataset()\n",
    "# get lat lon values for regridding\n",
    "trawl_locs['lon'] = xr.DataArray(data=df['longitude'].to_numpy(), dims=('trawl_sample'))\n",
    "trawl_locs['lat'] = xr.DataArray(data=df['latitude'].to_numpy(), dims=('trawl_sample'))\n",
    "\n",
    "# Get time values for time interpolation\n",
    "print(\"Creating array of Alaska times:\")\n",
    "times = np.array(df['start_time'].to_list(), dtype=\"datetime64\")\n",
    "times_alaska = times + np.timedelta64(8,\"h\")\n",
    "\n",
    "# Create regridder to interp latlon to to trawl locations using xesmf\n",
    "print(\"Creating regridder to trawl locations:\")\n",
    "nep_regridder = xesmf.Regridder(nep_ds, trawl_locs, 'bilinear', locstream_out=True)\n",
    "\n",
    "# Interpolate time to Alaska Daylight Time: UTC-8\n",
    "print(\"Performing interpolation: \")\n",
    "nep_interpreted = nep_ds.interp(time=times_alaska)\n",
    "print(\"Interpolated times: \")\n",
    "\n",
    "# regrid NEP and GLORYS bottom temperature value\n",
    "print(\"Regridding to trawl locations:\")\n",
    "nep_regridded = nep_regridder(nep_interpreted)\n",
    "print(\"Regrided dataset:\")\n",
    "\n",
    "# Write interpreted values to dataframe\n",
    "print(\"Writing interpolated values to dataframe\")\n",
    "for i in range( len(df2) ):\n",
    "    df2['nep_tob'][i] = nep_regridded.tob.isel(time=i,trawl_sample=i)\n",
    "\n",
    "print(\"Saving dataframe\")\n",
    "new_csv = f'/work/Utheri.Wagura/NEP/plotting/Figure_19_20/{experiment}/index_hauls_temperature_data_nep.csv'\n",
    "df2.to_csv(new_csv)\n",
    "df2['nep_tob']"
   ]
  }
 ],
 "metadata": {
  "kernelspec": {
   "display_name": "role_medpy311",
   "language": "python",
   "name": "role_medpy311"
  },
  "language_info": {
   "codemirror_mode": {
    "name": "ipython",
    "version": 3
   },
   "file_extension": ".py",
   "mimetype": "text/x-python",
   "name": "python",
   "nbconvert_exporter": "python",
   "pygments_lexer": "ipython3",
   "version": "3.11.10"
  }
 },
 "nbformat": 4,
 "nbformat_minor": 5
}
