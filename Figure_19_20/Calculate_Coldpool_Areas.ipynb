{
 "cells": [
  {
   "cell_type": "code",
   "execution_count": 1,
   "id": "eb2aa6c8",
   "metadata": {},
   "outputs": [
    {
     "ename": "NameError",
     "evalue": "name 'library' is not defined",
     "output_type": "error",
     "traceback": [
      "\u001b[0;31m---------------------------------------------------------------------------\u001b[0m",
      "\u001b[0;31mNameError\u001b[0m                                 Traceback (most recent call last)",
      "Cell \u001b[0;32mIn[1], line 1\u001b[0m\n\u001b[0;32m----> 1\u001b[0m \u001b[43mlibrary\u001b[49m(coldpool)\n\u001b[1;32m      2\u001b[0m library(akgfmaps)\n",
      "\u001b[0;31mNameError\u001b[0m: name 'library' is not defined"
     ]
    }
   ],
   "source": [
    "library(coldpool)\n",
    "library(akgfmaps)"
   ]
  },
  {
   "cell_type": "code",
   "execution_count": 4,
   "id": "256b5c8c",
   "metadata": {},
   "outputs": [],
   "source": [
    "proj_crs <- coldpool:::ebs_proj_crs\n",
    "\n",
    "ebs_nep_csv_path <- '/work/Utheri.Wagura/NEP/plotting/Figure_19_20/index_hauls_temperature_data_nep.csv'"
   ]
  },
  {
   "cell_type": "markdown",
   "id": "befed50b-7c1b-4783-8c9f-e507b4e4b859",
   "metadata": {},
   "source": [
    "### Calculate Cold Pool Area for NEP tob"
   ]
  },
  {
   "cell_type": "code",
   "execution_count": 5,
   "id": "ed5913a2-8f36-4ebf-b17a-b102f13b03e9",
   "metadata": {},
   "outputs": [],
   "source": [
    "# Interpolate gear temperature and write rasters for SEBS - nep bottom temp values\n",
    "interpolation_wrapper(temp_data_path = ebs_nep_csv_path,\n",
    "                      proj_crs = proj_crs,\n",
    "                      cell_resolution = 5000, # 5x5 km grid resolution\n",
    "                      select_years = 1993:2024,\n",
    "                      interp_variable = \"nep_tob\",\n",
    "                      select_region = \"sebs\",\n",
    "                      methods = \"Ste\") "
   ]
  },
  {
   "cell_type": "code",
   "execution_count": null,
   "id": "bc9d38d9-a671-44bc-bc51-3ef0c53a01c6",
   "metadata": {},
   "outputs": [],
   "source": [
    "# Calculate cold pool area for NEP\n",
    "bottom_temp_files <- list.files(here::here(\"output\", \"raster\", \"sebs\", \"nep_tob\"), \n",
    "                                full.names = TRUE,\n",
    "                                pattern = \"ste_\")\n",
    "\n",
    "bt_df <- data.frame(YEAR = numeric(length = length(bottom_temp_files)),\n",
    "                    AREA_LTE2_KM2 = numeric(length = length(bottom_temp_files)),\n",
    "                    AREA_LTE1_KM2 = numeric(length = length(bottom_temp_files)),\n",
    "                    AREA_LTE0_KM2 = numeric(length = length(bottom_temp_files)),\n",
    "                    AREA_LTEMINUS1_KM2 = numeric(length = length(bottom_temp_files)),\n",
    "                    MEAN_GEAR_TEMPERATURE = numeric(length = length(bottom_temp_files)),\n",
    "                    MEAN_BT_LT100M = numeric(length = length(bottom_temp_files)))\n",
    "\n",
    "# Setup mask to calculate mean bottom temperature from <100 m strata\n",
    "ebs_layers <- akgfmaps::get_base_layers(select.region = \"sebs\", set.crs = proj_crs)\n",
    "\n",
    "lt100_strata <- ebs_layers$survey.strata |>\n",
    "  dplyr::filter(Stratum %in% c(10, 20, 31, 32, 41, 42, 43)) |>\n",
    "  dplyr::group_by(SURVEY) |>\n",
    "  dplyr::summarise()\n",
    "\n",
    "for(i in 1:length(bottom_temp_files)) {\n",
    "  bt_raster <- terra::rast(bottom_temp_files[i])\n",
    "  bt_df$YEAR[i] <- as.numeric(gsub(\"[^0-9.-]\", \"\", names(bt_raster))) # Extract year\n",
    "  bt_df$AREA_LTE2_KM2[i] <- bt_raster |> \n",
    "    cpa_from_raster(raster_units = \"m\", temperature_threshold = 2)\n",
    "  bt_df$AREA_LTE1_KM2[i] <- bt_raster |> \n",
    "    cpa_from_raster(raster_units = \"m\", temperature_threshold = 1)\n",
    "  bt_df$AREA_LTE0_KM2[i] <- bt_raster |> \n",
    "    cpa_from_raster(raster_units = \"m\", temperature_threshold = 0)\n",
    "  bt_df$AREA_LTEMINUS1_KM2[i] <- bt_raster |> \n",
    "    cpa_from_raster(raster_units = \"m\", temperature_threshold = -1)\n",
    "  bt_df$MEAN_GEAR_TEMPERATURE[i] <- mean(terra::values(bt_raster), na.rm = TRUE)\n",
    "  lt100_temp <- terra::mask(bt_raster, \n",
    "                            lt100_strata,\n",
    "                            touches = FALSE)\n",
    "  bt_df$MEAN_BT_LT100M[i] <- mean(terra::values(lt100_temp), na.rm = TRUE) \n",
    "  \n",
    "}\n",
    "\n",
    "write.csv(bt_df, \"nep_cpa.csv\", row.names=FALSE)"
   ]
  },
  {
   "cell_type": "markdown",
   "id": "31b444d9-d8f8-47a0-a327-2f62720d4dc6",
   "metadata": {},
   "source": [
    "### Calculate Cold Pool Area for AFSC Trawl Gear Temperature"
   ]
  },
  {
   "cell_type": "code",
   "execution_count": null,
   "id": "df1db18a-da6d-4552-9412-c4b0fb149bfd",
   "metadata": {},
   "outputs": [],
   "source": [
    "# Interpolate gear temperature and write rasters for SEBS\n",
    "interpolation_wrapper(temp_data_path = ebs_nep_csv_path,\n",
    "                      proj_crs = proj_crs,\n",
    "                      cell_resolution = 5000, # 5x5 km grid resolution\n",
    "                      select_years = 1993:2024,\n",
    "                      interp_variable = \"gear_temperature\",\n",
    "                      select_region = \"sebs\",\n",
    "                      methods = \"Ste\") "
   ]
  },
  {
   "cell_type": "code",
   "execution_count": null,
   "id": "56719fc4-b10c-40d1-b586-205a3c35986b",
   "metadata": {},
   "outputs": [],
   "source": [
    "# Calculate cold pool area\n",
    "bottom_temp_files <- list.files(here::here(\"output\", \"raster\", \"sebs\", \"gear_temperature\"), \n",
    "                                full.names = TRUE,\n",
    "                                pattern = \"ste_\")\n",
    "\n",
    "bt_df <gtk- data.frame(YEAR = numeric(length = length(bottom_temp_files)),\n",
    "                    AREA_LTE2_KM2 = numeric(length = length(bottom_temp_files)),\n",
    "                    AREA_LTE1_KM2 = numeric(length = length(bottom_temp_files)),\n",
    "                    AREA_LTE0_KM2 = numeric(length = length(bottom_temp_files)),\n",
    "                    AREA_LTEMINUS1_KM2 = numeric(length = length(bottom_temp_files)),\n",
    "                    MEAN_GEAR_TEMPERATURE = numeric(length = length(bottom_temp_files)),\n",
    "                    MEAN_BT_LT100M = numeric(length = length(bottom_temp_files)))\n",
    "\n",
    "# Setup mask to calculate mean bottom temperature from <100 m strata\n",
    "ebs_layers <- akgfmaps::get_base_layers(select.region = \"sebs\", set.crs = proj_crs)\n",
    "\n",
    "lt100_strata <- ebs_layers$survey.strata |>\n",
    "  dplyr::filter(Stratum %in% c(10, 20, 31, 32, 41, 42, 43)) |>\n",
    "  dplyr::group_by(SURVEY) |>\n",
    "  dplyr::summarise()\n",
    "\n",
    "for(i in 1:length(bottom_temp_files)) {\n",
    "  bt_raster <- terra::rast(bottom_temp_files[i])\n",
    "  bt_df$YEAR[i] <- as.numeric(gsub(\"[^0-9.-]\", \"\", names(bt_raster))) # Extract year\n",
    "  bt_df$AREA_LTE2_KM2[i] <- bt_raster |> \n",
    "    cpa_from_raster(raster_units = \"m\", temperature_threshold = 2)\n",
    "  bt_df$AREA_LTE1_KM2[i] <- bt_raster |> \n",
    "    cpa_from_raster(raster_units = \"m\", temperature_threshold = 1)\n",
    "  bt_df$AREA_LTE0_KM2[i] <- bt_raster |> \n",
    "    cpa_from_raster(raster_units = \"m\", temperature_threshold = 0)\n",
    "  bt_df$AREA_LTEMINUS1_KM2[i] <- bt_raster |> \n",
    "    cpa_from_raster(raster_units = \"m\", temperature_threshold = -1)\n",
    "  bt_df$MEAN_GEAR_TEMPERATURE[i] <- mean(terra::values(bt_raster), na.rm = TRUE)\n",
    "  lt100_temp <- terra::mask(bt_raster, \n",
    "                            lt100_strata,\n",
    "                            touches = FALSE)\n",
    "  bt_df$MEAN_BT_LT100M[i] <- mean(terra::values(lt100_temp), na.rm = TRUE) \n",
    "  \n",
    "}\n",
    "\n",
    "write.csv(bt_df, \"trawl_cpa.csv\", row.names=FALSE)"
   ]
  },
  {
   "cell_type": "code",
   "execution_count": null,
   "id": "f1fd1289-21b0-4c55-abf8-5caf0a79bbeb",
   "metadata": {},
   "outputs": [],
   "source": []
  }
 ],
 "metadata": {
  "kernelspec": {
   "display_name": "r_env",
   "language": "python",
   "name": "r_env"
  },
  "language_info": {
   "codemirror_mode": {
    "name": "ipython",
    "version": 3
   },
   "file_extension": ".py",
   "mimetype": "text/x-python",
   "name": "python",
   "nbconvert_exporter": "python",
   "pygments_lexer": "ipython3",
   "version": "3.13.1"
  }
 },
 "nbformat": 4,
 "nbformat_minor": 5
}
