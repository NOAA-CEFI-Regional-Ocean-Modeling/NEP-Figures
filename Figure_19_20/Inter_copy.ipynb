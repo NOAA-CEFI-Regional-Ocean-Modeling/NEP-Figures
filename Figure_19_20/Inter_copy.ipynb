{
 "cells": [
  {
   "cell_type": "code",
   "execution_count": 6,
   "id": "2c9784dc",
   "metadata": {},
   "outputs": [],
   "source": [
    "# Import the python packages you will need \n",
    "import pandas \n",
    "import numpy as np\n",
    "import netCDF4 as nc\n",
    "import xarray as xr\n",
    "import xesmf\n",
    "import datetime as dt\n",
    "from scipy import stats\n",
    "import time\n",
    "import warnings\n",
    "warnings.filterwarnings(\"ignore\")"
   ]
  },
  {
   "cell_type": "code",
   "execution_count": 7,
   "id": "7d403f30",
   "metadata": {},
   "outputs": [],
   "source": [
    "# NEP Bering Grid \n",
    "bering_nep_grid_file = '/work/role.medgrp/NEP/plotting/Figure_19_20/nep_bering_grid.nc'\n",
    "grd_fid = nc.Dataset(bering_nep_grid_file)\n",
    "\n",
    "# extracting lat/lon from geolat/geolon\n",
    "nep_lat = grd_fid.variables['geolat'][:]\n",
    "nep_lon = grd_fid.variables['geolon'][:]"
   ]
  },
  {
   "cell_type": "markdown",
   "id": "e2b290ae",
   "metadata": {},
   "source": [
    "#### Interpolation for Eastern and Northern Bering Sea for Kearney spatial plotting"
   ]
  },
  {
   "cell_type": "code",
   "execution_count": 8,
   "id": "439edff8-50bf-4eaa-ae7b-c6908f5dd8aa",
   "metadata": {},
   "outputs": [
    {
     "name": "stdout",
     "output_type": "stream",
     "text": [
      "<xarray.Dataset> Size: 1GB\n",
      "Dimensions:     (time: 11688, nv: 2, yh: 150, xh: 150)\n",
      "Coordinates:\n",
      "  * nv          (nv) float64 16B 1.0 2.0\n",
      "  * time        (time) datetime64[ns] 94kB 1993-01-01T12:00:00 ... 2024-12-31...\n",
      "  * xh          (xh) float64 1kB 233.5 233.6 233.6 233.7 ... 244.4 244.5 244.6\n",
      "  * yh          (yh) float64 1kB 51.52 51.57 51.62 51.67 ... 57.56 57.59 57.62\n",
      "    lon         (yh, xh) float32 90kB 195.4 195.5 195.6 ... 185.3 185.4 185.5\n",
      "    lat         (yh, xh) float32 90kB 50.08 50.15 50.23 ... 68.17 68.25 68.33\n",
      "Data variables:\n",
      "    average_DT  (time) timedelta64[ns] 94kB ...\n",
      "    average_T1  (time) datetime64[ns] 94kB ...\n",
      "    average_T2  (time) datetime64[ns] 94kB ...\n",
      "    time_bnds   (time, nv) datetime64[ns] 187kB ...\n",
      "    tob         (time, yh, xh) float32 1GB ...\n",
      "Attributes:\n",
      "    NumFilesInSet:       1\n",
      "    title:               NEP10_PHYSICS_decr7_e1\n",
      "    associated_files:    areacello: 19900101.ocean_static.nc\n",
      "    grid_type:           regular\n",
      "    grid_tile:           N/A\n",
      "    external_variables:  areacello\n",
      "    history:             Wed Mar 19 13:08:07 2025: ncrcat /vftmp/Utheri.Wagur...\n",
      "    NCO:                 netCDF Operators version 5.1.9 (Homepage = http://nc...\n"
     ]
    }
   ],
   "source": [
    "# daily NEP bering sea bottom temp\n",
    "nep_fil = '/work/Utheri.Wagura/NEP/plotting/Figure_19_20/nep_tob_bering_1993-2024_daily_ts.nc'\n",
    "nep_ds = xr.open_dataset(nep_fil)\n",
    "nep_ds = nep_ds.assign_coords(lon = (('yh', 'xh'), nep_lon))\n",
    "nep_ds = nep_ds.assign_coords(lat = (('yh', 'xh'), nep_lat))\n",
    "\n",
    "print(nep_ds)\n",
    "\n",
    "## daily bottom temp\n",
    "#trawl_fil = './ebs_nbs_temperature_full_area.csv'\n",
    "trawl_fil = '/work/role.medgrp/NEP/TOOLS/coldpool/data/ebs_nbs_temperature_full_area.csv'\n",
    "df = pandas.read_csv(trawl_fil)\n",
    "\n",
    "# drop rows that go back for forward in time further than the temporal extent of the NEP hindcast\n",
    "df = df[df.year >= 1993].reset_index(drop=True)\n",
    "#df = df[df.year <= 2019].reset_index(drop=True)\n",
    "\n",
    "# only measurements with haul type 3\n",
    "df = df[df.haul_type == 3].reset_index(drop=True)\n",
    "\n",
    "# generate copy of trawl dataframe with added empty column for interpolated NEP temp\n",
    "df2 = df.assign(nep_tob=np.nan*np.zeros(len(df)))"
   ]
  },
  {
   "cell_type": "code",
   "execution_count": 9,
   "id": "6d4f405d-1f06-4da4-9411-c2ed3fd3ca93",
   "metadata": {},
   "outputs": [
    {
     "name": "stdout",
     "output_type": "stream",
     "text": [
      "<xarray.Dataset> Size: 1GB\n",
      "Dimensions:     (time: 11688, nv: 2, yh: 150, xh: 150)\n",
      "Coordinates:\n",
      "  * nv          (nv) float64 16B 1.0 2.0\n",
      "  * time        (time) datetime64[ns] 94kB 1993-01-01T12:00:00 ... 2024-12-31...\n",
      "  * xh          (xh) float64 1kB 233.5 233.6 233.6 233.7 ... 244.4 244.5 244.6\n",
      "  * yh          (yh) float64 1kB 51.52 51.57 51.62 51.67 ... 57.56 57.59 57.62\n",
      "    lon         (yh, xh) float32 90kB 195.4 195.5 195.6 ... 185.3 185.4 185.5\n",
      "    lat         (yh, xh) float32 90kB 50.08 50.15 50.23 ... 68.17 68.25 68.33\n",
      "Data variables:\n",
      "    average_DT  (time) timedelta64[ns] 94kB ...\n",
      "    average_T1  (time) datetime64[ns] 94kB ...\n",
      "    average_T2  (time) datetime64[ns] 94kB ...\n",
      "    time_bnds   (time, nv) datetime64[ns] 187kB ...\n",
      "    tob         (time, yh, xh) float32 1GB ...\n",
      "Attributes:\n",
      "    NumFilesInSet:       1\n",
      "    title:               NEP10_PHYSICS_decr7_e1\n",
      "    associated_files:    areacello: 19900101.ocean_static.nc\n",
      "    grid_type:           regular\n",
      "    grid_tile:           N/A\n",
      "    external_variables:  areacello\n",
      "    history:             Wed Mar 19 13:08:07 2025: ncrcat /vftmp/Utheri.Wagur...\n",
      "    NCO:                 netCDF Operators version 5.1.9 (Homepage = http://nc...\n"
     ]
    }
   ],
   "source": [
    "# Regrid nep data to ebs\n",
    "print(nep_ds)\n",
    "\n",
    "# convert time to ALASKA time\n",
    "times = np.array(df['start_time'].to_list(), dtype=\"datetime64\")\n",
    "times_alaska = times + np.timedelta64(8,\"h\")"
   ]
  },
  {
   "cell_type": "code",
   "execution_count": 10,
   "id": "11992172-a86a-4391-9ca8-0535402f7bf5",
   "metadata": {},
   "outputs": [
    {
     "name": "stdout",
     "output_type": "stream",
     "text": [
      "<xarray.Dataset> Size: 195kB\n",
      "Dimensions:  (trawl_sample: 12193)\n",
      "Dimensions without coordinates: trawl_sample\n",
      "Data variables:\n",
      "    lon      (trawl_sample) float64 98kB -159.8 -159.7 -159.7 ... -175.7 -175.5\n",
      "    lat      (trawl_sample) float64 98kB 56.67 57.01 57.34 ... 60.0 59.34 58.67\n",
      "<xarray.Dataset> Size: 2GB\n",
      "Dimensions:  (time: 12193, yh: 150, xh: 150, nv: 2)\n",
      "Coordinates:\n",
      "  * nv       (nv) float64 16B 1.0 2.0\n",
      "  * xh       (xh) float64 1kB 233.5 233.6 233.6 233.7 ... 244.4 244.5 244.6\n",
      "  * yh       (yh) float64 1kB 51.52 51.57 51.62 51.67 ... 57.56 57.59 57.62\n",
      "    lon      (yh, xh) float32 90kB 195.4 195.5 195.6 195.7 ... 185.3 185.4 185.5\n",
      "    lat      (yh, xh) float32 90kB 50.08 50.15 50.23 50.31 ... 68.17 68.25 68.33\n",
      "  * time     (time) datetime64[s] 98kB 1993-06-06T15:00:00 ... 1998-07-29T23:...\n",
      "Data variables:\n",
      "    tob      (time, yh, xh) float64 2GB 1.066 1.064 1.064 ... 0.1814 0.2271\n",
      "Attributes:\n",
      "    NumFilesInSet:       1\n",
      "    title:               NEP10_PHYSICS_decr7_e1\n",
      "    associated_files:    areacello: 19900101.ocean_static.nc\n",
      "    grid_type:           regular\n",
      "    grid_tile:           N/A\n",
      "    external_variables:  areacello\n",
      "    history:             Wed Mar 19 13:08:07 2025: ncrcat /vftmp/Utheri.Wagur...\n",
      "    NCO:                 netCDF Operators version 5.1.9 (Homepage = http://nc...\n",
      "<xarray.Dataset> Size: 1GB\n",
      "Dimensions:  (time: 12193, trawl_sample: 12193, nv: 2)\n",
      "Coordinates:\n",
      "  * nv       (nv) float64 16B 1.0 2.0\n",
      "  * time     (time) datetime64[s] 98kB 1993-06-06T15:00:00 ... 1998-07-29T23:...\n",
      "Dimensions without coordinates: trawl_sample\n",
      "Data variables:\n",
      "    tob      (time, trawl_sample) float64 1GB 5.435 4.682 3.788 ... 2.833 3.493\n",
      "Attributes:\n",
      "    regrid_method:  bilinear\n"
     ]
    }
   ],
   "source": [
    "trawl_locs = xr.Dataset()\n",
    "trawl_locs['lon'] = xr.DataArray(data=df['longitude'].to_list(), dims=(\"trawl_sample\") )\n",
    "trawl_locs['lat'] = xr.DataArray(data=df['latitude'].to_list(), dims=(\"trawl_sample\") )\n",
    "print(trawl_locs)\n",
    "\n",
    "nep_regridder = xesmf.Regridder(nep_ds, trawl_locs , 'bilinear', locstream_out=True)\n",
    "\n",
    "# Interpolate times\n",
    "nep_ds_interp = nep_ds.interp(time=times_alaska)\n",
    "print(nep_ds_interp)\n",
    "\n",
    "# Regrid\n",
    "nep_regrided = nep_regridder(nep_ds_interp)\n",
    "\n",
    "print(nep_regrided)"
   ]
  },
  {
   "cell_type": "code",
   "execution_count": 6,
   "id": "a649f031-8aa5-4659-b9d4-c2b2fb03b482",
   "metadata": {},
   "outputs": [
    {
     "name": "stdout",
     "output_type": "stream",
     "text": [
      "<xarray.DataArray 'tob' ()> Size: 8B\n",
      "array(5.43469097)\n",
      "Coordinates:\n",
      "    time     datetime64[s] 8B 1993-06-06T15:00:00\n",
      "<xarray.DataArray 'tob' ()> Size: 8B\n",
      "array(4.6888392)\n",
      "Coordinates:\n",
      "    time     datetime64[s] 8B 1993-06-06T18:00:00\n",
      "<xarray.DataArray 'tob' ()> Size: 8B\n",
      "array(3.80881555)\n",
      "Coordinates:\n",
      "    time     datetime64[s] 8B 1993-06-06T21:00:00\n",
      "<xarray.DataArray 'tob' ()> Size: 8B\n",
      "array(3.37296398)\n",
      "Coordinates:\n",
      "    time     datetime64[s] 8B 1993-06-06T23:00:00\n",
      "<xarray.DataArray 'tob' ()> Size: 8B\n",
      "array(3.88619588)\n",
      "Coordinates:\n",
      "    time     datetime64[s] 8B 1993-06-07T02:00:00\n"
     ]
    }
   ],
   "source": [
    "for i in range(5):\n",
    "    print(nep_regrided.tob.isel(time=i,trawl_sample=i))"
   ]
  },
  {
   "cell_type": "code",
   "execution_count": 8,
   "id": "df75cff6-60da-4029-8772-cfd0a634cd53",
   "metadata": {},
   "outputs": [],
   "source": [
    "for i in range( len(df2)):\n",
    "    df2['nep_tob'][i] = nep_regrided.tob.isel(time=i,trawl_sample=i)\n",
    " \n",
    "new_csv = 'ebs_nbs_temperature_full_area_nep_test.csv'\n",
    "df2.to_csv(new_csv)"
   ]
  },
  {
   "cell_type": "code",
   "execution_count": null,
   "id": "dcfd85c9-5021-478e-94c2-79cce966884c",
   "metadata": {},
   "outputs": [],
   "source": []
  },
  {
   "cell_type": "markdown",
   "id": "2b3abaad",
   "metadata": {},
   "source": [
    "#### Interpolation for Index Bering Sea for Rohan CPA index processing and analysis"
   ]
  },
  {
   "cell_type": "code",
   "execution_count": 4,
   "id": "dd5ffa20",
   "metadata": {},
   "outputs": [
    {
     "name": "stdout",
     "output_type": "stream",
     "text": [
      "0 --- 0.001409769058227539 seconds ---\n",
      "200 --- 412.17448592185974 seconds ---\n"
     ]
    },
    {
     "ename": "KeyboardInterrupt",
     "evalue": "",
     "output_type": "error",
     "traceback": [
      "\u001b[0;31m---------------------------------------------------------------------------\u001b[0m",
      "\u001b[0;31mKeyboardInterrupt\u001b[0m                         Traceback (most recent call last)",
      "Cell \u001b[0;32mIn[4], line 50\u001b[0m\n\u001b[1;32m     47\u001b[0m     nep_regridder \u001b[38;5;241m=\u001b[39m xesmf\u001b[38;5;241m.\u001b[39mRegridder(nep_ds, trawl_locs, \u001b[38;5;124m'\u001b[39m\u001b[38;5;124mbilinear\u001b[39m\u001b[38;5;124m'\u001b[39m, locstream_out\u001b[38;5;241m=\u001b[39m\u001b[38;5;28;01mTrue\u001b[39;00m)\n\u001b[1;32m     49\u001b[0m     \u001b[38;5;66;03m# regrid NEP and GLORYS bottom temperature value and interpolate time - Alaska Daylight Time: UTC-8\u001b[39;00m\n\u001b[0;32m---> 50\u001b[0m     df2[\u001b[38;5;124m'\u001b[39m\u001b[38;5;124mnep_tob\u001b[39m\u001b[38;5;124m'\u001b[39m][index] \u001b[38;5;241m=\u001b[39m nep_regridder(\u001b[43mnep_ds\u001b[49m\u001b[43m[\u001b[49m\u001b[38;5;124;43m'\u001b[39;49m\u001b[38;5;124;43mtob\u001b[39;49m\u001b[38;5;124;43m'\u001b[39;49m\u001b[43m]\u001b[49m\u001b[38;5;241;43m.\u001b[39;49m\u001b[43minterp\u001b[49m\u001b[43m(\u001b[49m\u001b[43mtime\u001b[49m\u001b[38;5;241;43m=\u001b[39;49m\u001b[43m(\u001b[49m\u001b[43mdt\u001b[49m\u001b[38;5;241;43m.\u001b[39;49m\u001b[43mdatetime\u001b[49m\u001b[38;5;241;43m.\u001b[39;49m\u001b[43mstrptime\u001b[49m\u001b[43m(\u001b[49m\u001b[43mdf\u001b[49m\u001b[43m[\u001b[49m\u001b[38;5;124;43m'\u001b[39;49m\u001b[38;5;124;43mstart_time\u001b[39;49m\u001b[38;5;124;43m'\u001b[39;49m\u001b[43m]\u001b[49m\u001b[43m[\u001b[49m\u001b[43mindex\u001b[49m\u001b[43m]\u001b[49m\u001b[43m,\u001b[49m\u001b[43m \u001b[49m\u001b[38;5;124;43m'\u001b[39;49m\u001b[38;5;124;43m%\u001b[39;49m\u001b[38;5;124;43mY-\u001b[39;49m\u001b[38;5;124;43m%\u001b[39;49m\u001b[38;5;124;43mm-\u001b[39;49m\u001b[38;5;132;43;01m%d\u001b[39;49;00m\u001b[38;5;124;43m \u001b[39;49m\u001b[38;5;124;43m%\u001b[39;49m\u001b[38;5;124;43mH:\u001b[39;49m\u001b[38;5;124;43m%\u001b[39;49m\u001b[38;5;124;43mM:\u001b[39;49m\u001b[38;5;124;43m%\u001b[39;49m\u001b[38;5;124;43mS\u001b[39;49m\u001b[38;5;124;43m'\u001b[39;49m\u001b[43m)\u001b[49m\u001b[38;5;241;43m+\u001b[39;49m\u001b[43mdt\u001b[49m\u001b[38;5;241;43m.\u001b[39;49m\u001b[43mtimedelta\u001b[49m\u001b[43m(\u001b[49m\u001b[43mhours\u001b[49m\u001b[38;5;241;43m=\u001b[39;49m\u001b[38;5;241;43m8\u001b[39;49m\u001b[43m)\u001b[49m\u001b[43m)\u001b[49m\u001b[43m)\u001b[49m)\n\u001b[1;32m     52\u001b[0m new_csv \u001b[38;5;241m=\u001b[39m \u001b[38;5;124m'\u001b[39m\u001b[38;5;124mindex_hauls_temperature_data_nep.csv\u001b[39m\u001b[38;5;124m'\u001b[39m\n\u001b[1;32m     53\u001b[0m df2\u001b[38;5;241m.\u001b[39mto_csv(new_csv)\n",
      "File \u001b[0;32m/nbhome/role.medgrp/.conda/envs/medpy311/lib/python3.11/site-packages/xarray/core/dataarray.py:2378\u001b[0m, in \u001b[0;36mDataArray.interp\u001b[0;34m(self, coords, method, assume_sorted, kwargs, **coords_kwargs)\u001b[0m\n\u001b[1;32m   2374\u001b[0m \u001b[38;5;28;01mif\u001b[39;00m \u001b[38;5;28mself\u001b[39m\u001b[38;5;241m.\u001b[39mdtype\u001b[38;5;241m.\u001b[39mkind \u001b[38;5;129;01mnot\u001b[39;00m \u001b[38;5;129;01min\u001b[39;00m \u001b[38;5;124m\"\u001b[39m\u001b[38;5;124muifc\u001b[39m\u001b[38;5;124m\"\u001b[39m:\n\u001b[1;32m   2375\u001b[0m     \u001b[38;5;28;01mraise\u001b[39;00m \u001b[38;5;167;01mTypeError\u001b[39;00m(\n\u001b[1;32m   2376\u001b[0m         \u001b[38;5;124mf\u001b[39m\u001b[38;5;124m\"\u001b[39m\u001b[38;5;124minterp only works for a numeric type array. Given \u001b[39m\u001b[38;5;132;01m{\u001b[39;00m\u001b[38;5;28mself\u001b[39m\u001b[38;5;241m.\u001b[39mdtype\u001b[38;5;132;01m}\u001b[39;00m\u001b[38;5;124m.\u001b[39m\u001b[38;5;124m\"\u001b[39m\n\u001b[1;32m   2377\u001b[0m     )\n\u001b[0;32m-> 2378\u001b[0m ds \u001b[38;5;241m=\u001b[39m \u001b[38;5;28;43mself\u001b[39;49m\u001b[38;5;241;43m.\u001b[39;49m\u001b[43m_to_temp_dataset\u001b[49m\u001b[43m(\u001b[49m\u001b[43m)\u001b[49m\u001b[38;5;241;43m.\u001b[39;49m\u001b[43minterp\u001b[49m\u001b[43m(\u001b[49m\n\u001b[1;32m   2379\u001b[0m \u001b[43m    \u001b[49m\u001b[43mcoords\u001b[49m\u001b[43m,\u001b[49m\n\u001b[1;32m   2380\u001b[0m \u001b[43m    \u001b[49m\u001b[43mmethod\u001b[49m\u001b[38;5;241;43m=\u001b[39;49m\u001b[43mmethod\u001b[49m\u001b[43m,\u001b[49m\n\u001b[1;32m   2381\u001b[0m \u001b[43m    \u001b[49m\u001b[43mkwargs\u001b[49m\u001b[38;5;241;43m=\u001b[39;49m\u001b[43mkwargs\u001b[49m\u001b[43m,\u001b[49m\n\u001b[1;32m   2382\u001b[0m \u001b[43m    \u001b[49m\u001b[43massume_sorted\u001b[49m\u001b[38;5;241;43m=\u001b[39;49m\u001b[43massume_sorted\u001b[49m\u001b[43m,\u001b[49m\n\u001b[1;32m   2383\u001b[0m \u001b[43m    \u001b[49m\u001b[38;5;241;43m*\u001b[39;49m\u001b[38;5;241;43m*\u001b[39;49m\u001b[43mcoords_kwargs\u001b[49m\u001b[43m,\u001b[49m\n\u001b[1;32m   2384\u001b[0m \u001b[43m\u001b[49m\u001b[43m)\u001b[49m\n\u001b[1;32m   2385\u001b[0m \u001b[38;5;28;01mreturn\u001b[39;00m \u001b[38;5;28mself\u001b[39m\u001b[38;5;241m.\u001b[39m_from_temp_dataset(ds)\n",
      "File \u001b[0;32m/nbhome/role.medgrp/.conda/envs/medpy311/lib/python3.11/site-packages/xarray/core/dataset.py:4183\u001b[0m, in \u001b[0;36mDataset.interp\u001b[0;34m(self, coords, method, assume_sorted, kwargs, method_non_numeric, **coords_kwargs)\u001b[0m\n\u001b[1;32m   4179\u001b[0m \u001b[38;5;28;01mif\u001b[39;00m name \u001b[38;5;129;01min\u001b[39;00m indexers:\n\u001b[1;32m   4180\u001b[0m     \u001b[38;5;28;01mcontinue\u001b[39;00m\n\u001b[1;32m   4182\u001b[0m use_indexers \u001b[38;5;241m=\u001b[39m (\n\u001b[0;32m-> 4183\u001b[0m     dask_indexers \u001b[38;5;28;01mif\u001b[39;00m is_duck_dask_array(\u001b[43mvar\u001b[49m\u001b[38;5;241;43m.\u001b[39;49m\u001b[43mdata\u001b[49m) \u001b[38;5;28;01melse\u001b[39;00m validated_indexers\n\u001b[1;32m   4184\u001b[0m )\n\u001b[1;32m   4186\u001b[0m dtype_kind \u001b[38;5;241m=\u001b[39m var\u001b[38;5;241m.\u001b[39mdtype\u001b[38;5;241m.\u001b[39mkind\n\u001b[1;32m   4187\u001b[0m \u001b[38;5;28;01mif\u001b[39;00m dtype_kind \u001b[38;5;129;01min\u001b[39;00m \u001b[38;5;124m\"\u001b[39m\u001b[38;5;124muifc\u001b[39m\u001b[38;5;124m\"\u001b[39m:\n\u001b[1;32m   4188\u001b[0m     \u001b[38;5;66;03m# For normal number types do the interpolation:\u001b[39;00m\n",
      "File \u001b[0;32m/nbhome/role.medgrp/.conda/envs/medpy311/lib/python3.11/site-packages/xarray/core/variable.py:415\u001b[0m, in \u001b[0;36mVariable.data\u001b[0;34m(self)\u001b[0m\n\u001b[1;32m    413\u001b[0m     \u001b[38;5;28;01mreturn\u001b[39;00m \u001b[38;5;28mself\u001b[39m\u001b[38;5;241m.\u001b[39m_data\n\u001b[1;32m    414\u001b[0m \u001b[38;5;28;01melif\u001b[39;00m \u001b[38;5;28misinstance\u001b[39m(\u001b[38;5;28mself\u001b[39m\u001b[38;5;241m.\u001b[39m_data, indexing\u001b[38;5;241m.\u001b[39mExplicitlyIndexed):\n\u001b[0;32m--> 415\u001b[0m     \u001b[38;5;28;01mreturn\u001b[39;00m \u001b[38;5;28;43mself\u001b[39;49m\u001b[38;5;241;43m.\u001b[39;49m\u001b[43m_data\u001b[49m\u001b[38;5;241;43m.\u001b[39;49m\u001b[43mget_duck_array\u001b[49m\u001b[43m(\u001b[49m\u001b[43m)\u001b[49m\n\u001b[1;32m    416\u001b[0m \u001b[38;5;28;01melse\u001b[39;00m:\n\u001b[1;32m    417\u001b[0m     \u001b[38;5;28;01mreturn\u001b[39;00m \u001b[38;5;28mself\u001b[39m\u001b[38;5;241m.\u001b[39mvalues\n",
      "File \u001b[0;32m/nbhome/role.medgrp/.conda/envs/medpy311/lib/python3.11/site-packages/xarray/core/indexing.py:835\u001b[0m, in \u001b[0;36mMemoryCachedArray.get_duck_array\u001b[0;34m(self)\u001b[0m\n\u001b[1;32m    834\u001b[0m \u001b[38;5;28;01mdef\u001b[39;00m \u001b[38;5;21mget_duck_array\u001b[39m(\u001b[38;5;28mself\u001b[39m):\n\u001b[0;32m--> 835\u001b[0m     \u001b[38;5;28;43mself\u001b[39;49m\u001b[38;5;241;43m.\u001b[39;49m\u001b[43m_ensure_cached\u001b[49m\u001b[43m(\u001b[49m\u001b[43m)\u001b[49m\n\u001b[1;32m    836\u001b[0m     \u001b[38;5;28;01mreturn\u001b[39;00m \u001b[38;5;28mself\u001b[39m\u001b[38;5;241m.\u001b[39marray\u001b[38;5;241m.\u001b[39mget_duck_array()\n",
      "File \u001b[0;32m/nbhome/role.medgrp/.conda/envs/medpy311/lib/python3.11/site-packages/xarray/core/indexing.py:832\u001b[0m, in \u001b[0;36mMemoryCachedArray._ensure_cached\u001b[0;34m(self)\u001b[0m\n\u001b[1;32m    831\u001b[0m \u001b[38;5;28;01mdef\u001b[39;00m \u001b[38;5;21m_ensure_cached\u001b[39m(\u001b[38;5;28mself\u001b[39m):\n\u001b[0;32m--> 832\u001b[0m     \u001b[38;5;28mself\u001b[39m\u001b[38;5;241m.\u001b[39marray \u001b[38;5;241m=\u001b[39m as_indexable(\u001b[38;5;28;43mself\u001b[39;49m\u001b[38;5;241;43m.\u001b[39;49m\u001b[43marray\u001b[49m\u001b[38;5;241;43m.\u001b[39;49m\u001b[43mget_duck_array\u001b[49m\u001b[43m(\u001b[49m\u001b[43m)\u001b[49m)\n",
      "File \u001b[0;32m/nbhome/role.medgrp/.conda/envs/medpy311/lib/python3.11/site-packages/xarray/core/indexing.py:789\u001b[0m, in \u001b[0;36mCopyOnWriteArray.get_duck_array\u001b[0;34m(self)\u001b[0m\n\u001b[1;32m    788\u001b[0m \u001b[38;5;28;01mdef\u001b[39;00m \u001b[38;5;21mget_duck_array\u001b[39m(\u001b[38;5;28mself\u001b[39m):\n\u001b[0;32m--> 789\u001b[0m     \u001b[38;5;28;01mreturn\u001b[39;00m \u001b[38;5;28;43mself\u001b[39;49m\u001b[38;5;241;43m.\u001b[39;49m\u001b[43marray\u001b[49m\u001b[38;5;241;43m.\u001b[39;49m\u001b[43mget_duck_array\u001b[49m\u001b[43m(\u001b[49m\u001b[43m)\u001b[49m\n",
      "File \u001b[0;32m/nbhome/role.medgrp/.conda/envs/medpy311/lib/python3.11/site-packages/xarray/core/indexing.py:659\u001b[0m, in \u001b[0;36mLazilyIndexedArray.get_duck_array\u001b[0;34m(self)\u001b[0m\n\u001b[1;32m    654\u001b[0m \u001b[38;5;66;03m# self.array[self.key] is now a numpy array when\u001b[39;00m\n\u001b[1;32m    655\u001b[0m \u001b[38;5;66;03m# self.array is a BackendArray subclass\u001b[39;00m\n\u001b[1;32m    656\u001b[0m \u001b[38;5;66;03m# and self.key is BasicIndexer((slice(None, None, None),))\u001b[39;00m\n\u001b[1;32m    657\u001b[0m \u001b[38;5;66;03m# so we need the explicit check for ExplicitlyIndexed\u001b[39;00m\n\u001b[1;32m    658\u001b[0m \u001b[38;5;28;01mif\u001b[39;00m \u001b[38;5;28misinstance\u001b[39m(array, ExplicitlyIndexed):\n\u001b[0;32m--> 659\u001b[0m     array \u001b[38;5;241m=\u001b[39m \u001b[43marray\u001b[49m\u001b[38;5;241;43m.\u001b[39;49m\u001b[43mget_duck_array\u001b[49m\u001b[43m(\u001b[49m\u001b[43m)\u001b[49m\n\u001b[1;32m    660\u001b[0m \u001b[38;5;28;01mreturn\u001b[39;00m _wrap_numpy_scalars(array)\n",
      "File \u001b[0;32m/nbhome/role.medgrp/.conda/envs/medpy311/lib/python3.11/site-packages/xarray/coding/variables.py:81\u001b[0m, in \u001b[0;36m_ElementwiseFunctionArray.get_duck_array\u001b[0;34m(self)\u001b[0m\n\u001b[1;32m     80\u001b[0m \u001b[38;5;28;01mdef\u001b[39;00m \u001b[38;5;21mget_duck_array\u001b[39m(\u001b[38;5;28mself\u001b[39m):\n\u001b[0;32m---> 81\u001b[0m     \u001b[38;5;28;01mreturn\u001b[39;00m \u001b[38;5;28;43mself\u001b[39;49m\u001b[38;5;241;43m.\u001b[39;49m\u001b[43mfunc\u001b[49m\u001b[43m(\u001b[49m\u001b[38;5;28;43mself\u001b[39;49m\u001b[38;5;241;43m.\u001b[39;49m\u001b[43marray\u001b[49m\u001b[38;5;241;43m.\u001b[39;49m\u001b[43mget_duck_array\u001b[49m\u001b[43m(\u001b[49m\u001b[43m)\u001b[49m\u001b[43m)\u001b[49m\n",
      "File \u001b[0;32m/nbhome/role.medgrp/.conda/envs/medpy311/lib/python3.11/site-packages/xarray/coding/variables.py:231\u001b[0m, in \u001b[0;36m_apply_mask\u001b[0;34m(data, encoded_fill_values, decoded_fill_value, dtype)\u001b[0m\n\u001b[1;32m    229\u001b[0m condition \u001b[38;5;241m=\u001b[39m \u001b[38;5;28;01mFalse\u001b[39;00m\n\u001b[1;32m    230\u001b[0m \u001b[38;5;28;01mfor\u001b[39;00m fv \u001b[38;5;129;01min\u001b[39;00m encoded_fill_values:\n\u001b[0;32m--> 231\u001b[0m     condition \u001b[38;5;241m|\u001b[39m\u001b[38;5;241m=\u001b[39m data \u001b[38;5;241m==\u001b[39m fv\n\u001b[1;32m    232\u001b[0m \u001b[38;5;28;01mreturn\u001b[39;00m np\u001b[38;5;241m.\u001b[39mwhere(condition, decoded_fill_value, data)\n",
      "\u001b[0;31mKeyboardInterrupt\u001b[0m: "
     ]
    }
   ],
   "source": [
    "## daily bottom temp\n",
    "trawl_fil = '/work/role.medgrp/NEP/TOOLS/coldpool/data/index_hauls_temperature_data.csv'\n",
    "df = pandas.read_csv(trawl_fil)\n",
    "\n",
    "# drop rows that go back for forward in time further than the temporal extent of the NEP hindcast\n",
    "df = df[df.year >= 1993].reset_index(drop=True)\n",
    "#df = df[df.year <= 2019].reset_index(drop=True)\n",
    "\n",
    "# append fake 2020 time values for nep regridding\n",
    "df_2020 = df[df.year==2019].reset_index(drop=True)\n",
    "df_2020.year = 2020\n",
    "df_2020.gear_temperature = np.nan\n",
    "df_2020.surface_temperature  = np.nan\n",
    "df_2020.cruise = np.nan\n",
    "for row in df_2020.itertuples():\n",
    "    index=row[0]\n",
    "    time_str = df_2020.start_time[index].split('2019')[1] \n",
    "    df_2020.start_time[index] = ('2020' + time_str)\n",
    "\n",
    "df = pandas.concat([df, df_2020]).reset_index(drop=True)\n",
    "\n",
    "nep_fil = '/work/Utheri.Wagura/NEP/plotting/Figure_19_20/nep_tob_bering_1993-2024_daily_ts.nc'\n",
    "nep_ds = xr.open_dataset(nep_fil)\n",
    "nep_ds = nep_ds.assign_coords(lon = (('yh', 'xh'), nep_lon))\n",
    "nep_ds = nep_ds.assign_coords(lat = (('yh', 'xh'), nep_lat))\n",
    "\n",
    "# generate copy of trawl dataframe with added empty column for interpolated NEP temp\n",
    "df2 = df.assign(nep_tob=np.nan*np.zeros(len(df)))\n",
    "\n",
    "trawl_locs = xr.Dataset()\n",
    "start_time = time.time()\n",
    "\n",
    "# run interpolation step using xesmf\n",
    "for row in df.itertuples():\n",
    "    index=row[0]\n",
    "    year = row[-1]\n",
    "    \n",
    "    #print(dt.datetime.strptime(df['start_time'][index], '%Y-%m-%d %H:%M:%S'))\n",
    "    if index%200 == 0:\n",
    "        print(index,\"--- %s seconds ---\" % (time.time() - start_time)) # Tracking progress\n",
    "    \n",
    "    # get lat lon values for regridding\n",
    "    trawl_locs['lon'] = xr.DataArray(data=[df['longitude'][index]], dims=('trawl_sample'))\n",
    "    trawl_locs['lat'] = xr.DataArray(data=[df['latitude'][index]], dims=('trawl_sample'))\n",
    "    \n",
    "    # create unique regridder for trawl location\n",
    "    nep_regridder = xesmf.Regridder(nep_ds, trawl_locs, 'bilinear', locstream_out=True)\n",
    "    \n",
    "    # regrid NEP and GLORYS bottom temperature value and interpolate time - Alaska Daylight Time: UTC-8\n",
    "    df2['nep_tob'][index] = nep_regridder(nep_ds['tob'].interp(time=(dt.datetime.strptime(df['start_time'][index], '%Y-%m-%d %H:%M:%S')+dt.timedelta(hours=8))))\n",
    "        \n",
    "new_csv = 'index_hauls_temperature_data_nep.csv'\n",
    "df2.to_csv(new_csv)"
   ]
  },
  {
   "cell_type": "code",
   "execution_count": null,
   "id": "06402f40-c3e1-4c5c-9f98-9f9c3fc3d4bd",
   "metadata": {},
   "outputs": [],
   "source": []
  }
 ],
 "metadata": {
  "kernelspec": {
   "display_name": "role_medpy311",
   "language": "python",
   "name": "role_medpy311"
  },
  "language_info": {
   "codemirror_mode": {
    "name": "ipython",
    "version": 3
   },
   "file_extension": ".py",
   "mimetype": "text/x-python",
   "name": "python",
   "nbconvert_exporter": "python",
   "pygments_lexer": "ipython3",
   "version": "3.11.10"
  }
 },
 "nbformat": 4,
 "nbformat_minor": 5
}
